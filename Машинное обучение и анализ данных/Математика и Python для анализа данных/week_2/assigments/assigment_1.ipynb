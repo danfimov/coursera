{
 "cells": [
  {
   "cell_type": "markdown",
   "metadata": {},
   "source": [
    "# Линейная алгебра: сходство текстов и аппроксимация функций\n",
    "\n",
    "Данное задание основано на материалах секции, посвященной введению в линейную алгебру. Вам понадобится компьютер с установленным интерпретатором Python и подключенными библиотеками NumPy и SciPy.\n",
    "\n",
    "### Вы научитесь:\n",
    "  * читать тексты из файла с помощью Python и разбивать их на слова\n",
    "  * переводить тексты в векторные пространства, вычислять расстояния в этих пространствах\n",
    "  * решать системы линейных уравнений\n",
    "  * приближать любые функции с помощью многочленов\n",
    "  \n",
    "## Введение\n",
    "\n",
    "В этом задании вы познакомитесь с некоторыми базовыми методами из линейной алгебры, реализованными в пакете SciPy — в частности, с методами подсчета косинусного расстояния и решения систем линейных уравнений. Обе эти задачи еще много раз встретятся нам в специализации. Так, на решении систем линейных уравнений основана настройка линейных моделей — очень большого и важного класса алгоритмов машинного обучения. Косинусное расстояние же часто используется в анализе текстов для измерения сходства между ними.\n",
    "\n",
    "## Материалы\n",
    "\n",
    "Справка по функциям пакета scipy.linalg: http://docs.scipy.org/doc/scipy/reference/linalg.html\n",
    "\n",
    "Справка по работе с файлами в Python: https://docs.python.org/2/tutorial/inputoutput.html#reading-and-writing-files\n",
    "\n",
    "Справка по регулярным выражениям в Python (если вы захотите узнать про них чуть больше): https://docs.python.org/2/library/re.html"
   ]
  },
  {
   "cell_type": "markdown",
   "metadata": {},
   "source": [
    "## Задача 1: сравнение предложений\n",
    "\n",
    "Дан набор предложений, скопированных с Википедии. Каждое из них имеет \"кошачью тему\" в одном из трех смыслов:\n",
    "\n",
    "  * кошки (животные)\n",
    "  * UNIX-утилита cat для вывода содержимого файлов\n",
    "  * версии операционной системы OS X, названные в честь семейства кошачьих\n",
    "Ваша задача — найти два предложения, которые ближе всего по смыслу к расположенному в самой первой строке. В качестве меры близости по смыслу мы будем использовать косинусное расстояние.\n",
    "\n",
    "#### Выполните следующие шаги:\n",
    "\n",
    "1. Скачайте файл с предложениями (sentences.txt).\n",
    "2. Каждая строка в файле соответствует одному предложению. Считайте их, приведите каждую к нижнему регистру с помощью строковой функции lower().\n",
    "3. Произведите токенизацию, то есть разбиение текстов на слова. Для этого можно воспользоваться регулярным выражением, которое считает разделителем любой символ, не являющийся буквой: <code>re.split('[^a-z]', t)</code>. Не забудьте удалить пустые слова после разделения.\n",
    "4. Составьте список всех слов, встречающихся в предложениях. Сопоставьте каждому слову индекс от нуля до (d - 1), где d — число различных слов в предложениях. Для этого удобно воспользоваться структурой dict.\n",
    "5. Создайте матрицу размера n x d, где n — число предложений. Заполните ее: элемент с индексом (i, j) в этой матрице должен быть равен количеству вхождений j-го слова в i-е предложение. У вас должна получиться матрица размера 22 * 254.\n",
    "6. Найдите косинусное расстояние от предложения в самой первой строке (In comparison to dogs, cats have not undergone...) до всех остальных с помощью функции scipy.spatial.distance.cosine. Какие номера у двух предложений, ближайших к нему по этому расстоянию (строки нумеруются с нуля)? Эти два числа и будут ответами на задание.\n",
    "7. Запишите полученные числа в файл, разделив пробелом. Обратите внимание, что файл должен состоять из одной строки, в конце которой не должно быть переноса. Пример файла с решением вы можете найти в конце задания (submission-1.txt).\n",
    "8. Совпадают ли ближайшие два предложения по тематике с первым? Совпадают ли тематики у следующих по близости предложений?\n",
    "\n",
    "Разумеется, использованный вами метод крайне простой. Например, он не учитывает формы слов (так, cat и cats он считает разными словами, хотя по сути они означают одно и то же), не удаляет из текстов артикли и прочие ненужные слова. Позже мы будем подробно изучать анализ текстов, где выясним, как достичь высокого качества в задаче поиска похожих предложений."
   ]
  },
  {
   "cell_type": "code",
   "execution_count": 1,
   "metadata": {},
   "outputs": [],
   "source": [
    "import numpy as np\n",
    "from scipy.spatial.distance import cosine\n",
    "import re\n",
    "import pandas as pd"
   ]
  },
  {
   "cell_type": "code",
   "execution_count": 2,
   "metadata": {},
   "outputs": [
    {
     "data": {
      "text/html": [
       "<div>\n",
       "<style scoped>\n",
       "    .dataframe tbody tr th:only-of-type {\n",
       "        vertical-align: middle;\n",
       "    }\n",
       "\n",
       "    .dataframe tbody tr th {\n",
       "        vertical-align: top;\n",
       "    }\n",
       "\n",
       "    .dataframe thead th {\n",
       "        text-align: right;\n",
       "    }\n",
       "</style>\n",
       "<table border=\"1\" class=\"dataframe\">\n",
       "  <thead>\n",
       "    <tr style=\"text-align: right;\">\n",
       "      <th></th>\n",
       "      <th>distance</th>\n",
       "      <th>sentence</th>\n",
       "    </tr>\n",
       "  </thead>\n",
       "  <tbody>\n",
       "    <tr>\n",
       "      <th>6</th>\n",
       "      <td>0.754744</td>\n",
       "      <td>domestic cats are similar in size to the other...</td>\n",
       "    </tr>\n",
       "    <tr>\n",
       "      <th>4</th>\n",
       "      <td>0.805539</td>\n",
       "      <td>in one, people deliberately tamed cats in a pr...</td>\n",
       "    </tr>\n",
       "    <tr>\n",
       "      <th>21</th>\n",
       "      <td>0.825036</td>\n",
       "      <td>the fifth major update to mac os x, leopard, c...</td>\n",
       "    </tr>\n",
       "    <tr>\n",
       "      <th>20</th>\n",
       "      <td>0.842757</td>\n",
       "      <td>mac os x mountain lion installs in place, so y...</td>\n",
       "    </tr>\n",
       "    <tr>\n",
       "      <th>16</th>\n",
       "      <td>0.853615</td>\n",
       "      <td>since apple moved to using intel processors in...</td>\n",
       "    </tr>\n",
       "  </tbody>\n",
       "</table>\n",
       "</div>"
      ],
      "text/plain": [
       "    distance                                           sentence\n",
       "6   0.754744  domestic cats are similar in size to the other...\n",
       "4   0.805539  in one, people deliberately tamed cats in a pr...\n",
       "21  0.825036  the fifth major update to mac os x, leopard, c...\n",
       "20  0.842757  mac os x mountain lion installs in place, so y...\n",
       "16  0.853615  since apple moved to using intel processors in..."
      ]
     },
     "execution_count": 2,
     "metadata": {},
     "output_type": "execute_result"
    }
   ],
   "source": [
    "file_string = ''\n",
    "sentencies = []\n",
    "\n",
    "with open('sentences.txt', 'r') as file:\n",
    "\n",
    "    for line in file:\n",
    "        file_string += line\n",
    "        sentencies.append(line.strip().lower())\n",
    "    \n",
    "file_string = file_string.lower()\n",
    "words = list(re.split('[^a-z]', file_string))\n",
    "words = [elem for elem in words if elem != '']\n",
    "words_dict = dict()\n",
    "index = 0\n",
    "for word in words:\n",
    "    if word not in words_dict.values():\n",
    "        words_dict[index] = word\n",
    "        index += 1\n",
    "\n",
    "n = len(sentencies)\n",
    "d = len(words_dict.keys())\n",
    "matrix = np.zeros(shape=(n, d))\n",
    "\n",
    "\n",
    "for i in range(n):\n",
    "    for j in range(d):\n",
    "        if list(words_dict.values())[j] in re.split('[^a-z]', sentencies[i]):\n",
    "            matrix[i, j] += 1\n",
    "\n",
    "min_distance = 1000           \n",
    "result = dict()       \n",
    "for i in range(1,n):\n",
    "    distance = cosine(matrix[i], matrix[0])\n",
    "    result[i] =  distance\n",
    "\n",
    "distances_df = pd.DataFrame.from_dict(result, orient = 'index')\n",
    "distances_df.columns = ['distance']\n",
    "distances_df['sentence'] = list(map(lambda x: sentencies[x], distances_df.index.values))\n",
    "distances_df.sort_values('distance')[:5]"
   ]
  },
  {
   "cell_type": "markdown",
   "metadata": {},
   "source": [
    "## Задача 2: аппроксимация функции\n",
    "\n",
    "Рассмотрим сложную математическую функцию на отрезке [1, 15]:\n",
    "\n",
    "$$f(x) = sin(\\frac{x}{5}) * exp(\\frac{x}{10}) + 5 * exp(\\frac{-x}{2})$$\n",
    "\n",
    "Она может описывать, например, зависимость оценок, которые выставляют определенному сорту вина эксперты, в зависимости от возраста этого вина. По сути, задача машинного обучения состоит в том, чтобы приблизить сложную зависимость с помощью функции из определенного семейства. В этом задании мы будем приближать указанную функцию с помощью многочленов.\n",
    "\n",
    "Как известно, многочлен степени n (то есть $w_0 + w_1 x + w_2 x^2 + ... + w_n x^n$) однозначно определяется любыми n + 1 различными точками, через которые он проходит. Это значит, что его коэффициенты $w_0, ... w_n$ можно определить из следующей системы линейных уравнений:\n",
    "\n",
    "\n",
    "где через $x_1, ..., x_n, x_{n+1}$ обозначены точки, через которые проходит многочлен, а через $f(x_1), ..., f(x_n), f(x_{n+1})$ — значения, которые он должен принимать в этих точках.\n",
    "\n",
    "Воспользуемся описанным свойством, и будем находить приближение функции многочленом, решая систему линейных уравнений.\n",
    "\n",
    "1. Сформируйте систему линейных уравнений (то есть задайте матрицу коэффициентов A и свободный вектор b) для многочлена первой степени, который должен совпадать с функцией f в точках 1 и 15. Решите данную систему с помощью функции scipy.linalg.solve. Нарисуйте функцию f и полученный многочлен. Хорошо ли он приближает исходную функцию?\n",
    "2. Повторите те же шаги для многочлена второй степени, который совпадает с функцией f в точках 1, 8 и 15. Улучшилось ли качество аппроксимации?\n",
    "3. Повторите те же шаги для многочлена третьей степени, который совпадает с функцией f в точках 1, 4, 10 и 15. Хорошо ли он аппроксимирует функцию? Коэффициенты данного многочлена (четыре числа в следующем порядке: $w_0, w_1, w_2, w_3$) являются ответом на задачу. Округлять коэффициенты не обязательно, но при желании можете произвести округление до второго знака (т.е. до числа вида 0.42)\n",
    "4. Запишите полученные числа в файл, разделив пробелами. Обратите внимание, что файл должен состоять из одной строки, в конце которой не должно быть переноса. Пример файла с решением вы можете найти в конце задания (submission-2.txt).\n"
   ]
  },
  {
   "cell_type": "code",
   "execution_count": 3,
   "metadata": {},
   "outputs": [
    {
     "name": "stdout",
     "output_type": "stream",
     "text": [
      "f(1) = 3.252216865271419\n",
      "f(4) = 1.7468459495903677\n",
      "f(8) = 2.316170159053224\n",
      "f(10) = 2.5054164070002463\n",
      "f(15) = 0.6352214195786656\n"
     ]
    }
   ],
   "source": [
    "from scipy.linalg import solve\n",
    "import matplotlib.pyplot as plt\n",
    "\n",
    "f = lambda x: np.sin(x / 5) * np.exp(x / 10) + 5 * np.exp(-x / 2)\n",
    "print('f(1) =',f(1))\n",
    "print('f(4) =',f(4))\n",
    "print('f(8) =',f(8))\n",
    "print('f(10) =',f(10))\n",
    "print('f(15) =',f(15))"
   ]
  },
  {
   "cell_type": "code",
   "execution_count": 4,
   "metadata": {},
   "outputs": [],
   "source": [
    "A = np.array([[1, 1], [15, 1]])\n",
    "B = np.array([f(1), f(15)])\n",
    "\n",
    "solve_1 = solve(A,B)\n",
    "f_1 = lambda x: solve_1[0]*x + solve_1[1]"
   ]
  },
  {
   "cell_type": "code",
   "execution_count": 5,
   "metadata": {},
   "outputs": [],
   "source": [
    "A = np.array([[1, 1, 1], [64, 8, 1], [225, 15, 1]])\n",
    "B = np.array([f(1), f(8), f(15)])\n",
    "\n",
    "solve_2 = solve(A,B)\n",
    "f_2 = lambda x: solve_2[0]*x**2 + solve_2[1]*x + solve_2[2]"
   ]
  },
  {
   "cell_type": "code",
   "execution_count": 6,
   "metadata": {},
   "outputs": [
    {
     "data": {
      "image/png": "[encoded data removed]",
      "text/plain": [
       "<Figure size 432x288 with 1 Axes>"
      ]
     },
     "metadata": {
      "needs_background": "light"
     },
     "output_type": "display_data"
    }
   ],
   "source": [
    "A = np.array([[1, 1, 1, 1], [4**3, 4**2, 4, 1], [1000, 100, 10, 1], [15**3, 15**2, 15, 1]])\n",
    "B = np.array([f(1), f(4), f(10), f(15)])\n",
    "\n",
    "solve_3 = solve(A,B)\n",
    "f_3 = lambda x: solve_3[0]*x**3 + solve_3[1]*x**2 + solve_3[2]*x + solve_3[3]\n",
    "\n",
    "fig, ax = plt.subplots()\n",
    "x = np.linspace(1, 16, 100)\n",
    "ax.plot(x, f(x), color='r', linewidth=1)\n",
    "ax.plot(x, f_1(x), color='m', linewidth=1)\n",
    "ax.plot(x, f_2(x), color='c', linewidth=1)\n",
    "ax.plot(x, f_3(x), color='b', linewidth=1)\n",
    "plt.show()"
   ]
  },
  {
   "cell_type": "code",
   "execution_count": 129,
   "metadata": {},
   "outputs": [
    {
     "name": "stdout",
     "output_type": "stream",
     "text": [
      "4.3626415351180725 -1.2955258656948443 0.19333684702151174 -0.008235651173320558\n"
     ]
    }
   ],
   "source": [
    "with open('2.txt', 'w') as file:\n",
    "    print(*reversed(solve_3), file=file, end='')\n",
    "print(*reversed(solve_3))"
   ]
  }
 ],
 "metadata": {
  "kernelspec": {
   "display_name": "Python 3",
   "language": "python",
   "name": "python3"
  },
  "language_info": {
   "codemirror_mode": {
    "name": "ipython",
    "version": 3
   },
   "file_extension": ".py",
   "mimetype": "text/x-python",
   "name": "python",
   "nbconvert_exporter": "python",
   "pygments_lexer": "ipython3",
   "version": "3.8.5"
  }
 },
 "nbformat": 4,
 "nbformat_minor": 4
}
