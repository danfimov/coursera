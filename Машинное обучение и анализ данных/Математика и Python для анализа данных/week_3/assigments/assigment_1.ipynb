{
 "cells": [
  {
   "cell_type": "markdown",
   "metadata": {},
   "source": [
    "# Assignment: Оптимизация в Python: глобальная оптимизация и оптимизация негладкой функции\n",
    "\n",
    "Данное задание основано на материалах секции, посвященной оптимизационным задачам и методам из решения. Вам понадобится компьютер с установленным интерпретатором Python и подключенными библиотеками NumPy, SciPy и Matplotlib.\n",
    "\n",
    "#### Вы научитесь:\n",
    "\n",
    "  * применять библиотеку SciPy для минимизации функций\n",
    "  * делать выбор между градиентными и неградиентными методами оптимизации, исходя из особенностей задачи и ваших пожеланий к итоговому решению\n",
    "\n",
    "### Введение\n",
    "\n",
    "В этом задании вы научитесь решать задачи оптимизации с помощью библиотеки SciPy. Сначала вы решите задачу поиска минимума функции с помощью одного из градиентных методов оптимизации, затем увидите отличия в работе градиентного метода и одного из методов глобальной оптимизации, а в заключение – найдете глобальный минимум негладкой функции, т.е. функции, у которой не всегда определен градиент.\n",
    "\n",
    "Понимание задачи глобальной оптимизации и отличий градиентных методов, от методов, не использующих градиент, очень полезно в задачах анализа данных, в частности, для подбора параметров алгоритмов.\n",
    "### Материалы\n",
    "\n",
    "    Справка по функциям пакета scipy.optimize: http://docs.scipy.org/doc/scipy/reference/optimize.html\n",
    "    Matplotlib User Guide: http://matplotlib.org/users/index.html \n",
    "\n",
    "### Инструкция по выполнению\n",
    "\n",
    "Данное задание состоит из трех частей. В каждой ответом будет набор чисел, который вам нужно будет набрать через пробел в текстовом файле и загрузить. Десятичные дроби записывайте через точку."
   ]
  },
  {
   "cell_type": "markdown",
   "metadata": {},
   "source": [
    "## Задача 1. Минимизация гладкой функции\n",
    "\n",
    "1. Рассмотрим все ту же функцию из задания по линейной алгебре: $f(x) = sin(\\frac{x}{5}) exp(\\frac{x}{10}) + 5 exp(\\frac{-x}{2})$, но теперь уже на промежутке $[1, 30]$\n",
    "2. В первом задании будем искать минимум этой функции на заданном промежутке с помощью `scipy.optimize`. Разумеется, в дальнейшем вы будете использовать методы оптимизации для более сложных функций, а $f(x)$ мы рассмотрим как удобный учебный пример.\n",
    "3. Напишите на Питоне функцию, вычисляющую значение $f(x)$ по известному $x$. Будьте внимательны: не забывайте про то, что по умолчанию в питоне целые числа делятся нацело, и о том, что функции sin и exp нужно импортировать из модуля `math`.\n",
    "4. Изучите примеры использования `scipy.optimize.minimize` в документации Scipy (см. \"Материалы\")\n",
    "5. Попробуйте найти минимум, используя стандартные параметры в функции `scipy.optimize.minimize` (т.е. задав только функцию и начальное приближение). Попробуйте менять начальное приближение и изучить, меняется ли результат.\n",
    "6. Укажите в `scipy.optimize.minimize` в качестве метода BFGS (один из самых точных в большинстве случаев градиентных методов оптимизации), запустите из начального приближения $x=2$. Градиент функции при этом указывать не нужно – он будет оценен численно. Полученное значение функции в точке минимума - ваш первый ответ по заданию 1, его надо записать с точностью до 2 знака после запятой.\n",
    "7. Теперь измените начальное приближение на $x=30$. Значение функции в точке минимума - ваш второй ответ по заданию 1, его надо записать через пробел после первого, с точностью до 2 знака после запятой.\n",
    "8. Стоит обдумать полученный результат. Почему ответ отличается в зависимости от начального приближения? Если нарисовать график функции (например, как это делалось в видео, где мы знакомились с Numpy, Scipy и Matplotlib), можно увидеть, в какие именно минимумы мы попали. В самом деле, градиентные методы обычно не решают задачу глобальной оптимизации, поэтому результаты работы ожидаемые и вполне корректные."
   ]
  },
  {
   "cell_type": "markdown",
   "metadata": {},
   "source": [
    "__Перебор различных начальных приближений__"
   ]
  },
  {
   "cell_type": "code",
   "execution_count": 28,
   "metadata": {
    "scrolled": true
   },
   "outputs": [
    {
     "name": "stdout",
     "output_type": "stream",
     "text": [
      " 1  4.1362870641323\n",
      " 2  4.136276187631968\n",
      " 3  4.136233322869034\n",
      " 4  4.136256980331266\n",
      " 5  4.13628830772063\n",
      " 6  4.136290047101759\n",
      " 7  4.136289389849689\n",
      " 8  4.136288684547558\n",
      " 9  4.136302307591149\n",
      "10  4.1363001275724836\n",
      "11  25.880192851200576\n",
      "12  25.88019226613192\n",
      "13  88.71203611667194\n",
      "14  25.88019308506344\n",
      "15  24.67766106555616\n",
      "16  25.880198765448892\n",
      "17  25.880176799910267\n",
      "18  25.88019850801773\n",
      "19  25.88017637085996\n",
      "20  25.880187419164756\n",
      "21  25.880206259299396\n",
      "22  25.880194468119207\n",
      "23  25.88019264949916\n",
      "24  25.88019535648461\n",
      "25  25.880185915711404\n",
      "26  25.880195628982722\n",
      "27  25.880197736989288\n",
      "28  25.880193329371057\n",
      "29  25.880204657593794\n",
      "30  25.88019300323556\n"
     ]
    }
   ],
   "source": [
    "import numpy as np\n",
    "from scipy.optimize import minimize\n",
    "\n",
    "f = lambda x: np.sin(x / 5) * np.exp(x / 10) + 5 * np.exp(-x / 2)\n",
    "for x0 in range(1, 31):\n",
    "    print('{:2d}  {}'.format(x0, minimize(f, x0)['x'][0]))"
   ]
  },
  {
   "cell_type": "markdown",
   "metadata": {},
   "source": [
    "__Начальное приближение $x_0=2$__"
   ]
  },
  {
   "cell_type": "code",
   "execution_count": 21,
   "metadata": {
    "scrolled": true
   },
   "outputs": [
    {
     "name": "stdout",
     "output_type": "stream",
     "text": [
      "      fun: 1.745268290344928\n",
      " hess_inv: array([[5.98750711]])\n",
      "      jac: array([-2.05636024e-06])\n",
      "  message: 'Optimization terminated successfully.'\n",
      "     nfev: 14\n",
      "      nit: 6\n",
      "     njev: 7\n",
      "   status: 0\n",
      "  success: True\n",
      "        x: array([4.13627619])\n"
     ]
    }
   ],
   "source": [
    "print(minimize(f, 2, method='BFGS'))"
   ]
  },
  {
   "cell_type": "markdown",
   "metadata": {},
   "source": [
    "__Начальное приближение $x_0=30$__"
   ]
  },
  {
   "cell_type": "code",
   "execution_count": 34,
   "metadata": {
    "scrolled": true
   },
   "outputs": [
    {
     "name": "stdout",
     "output_type": "stream",
     "text": [
      "      fun: -11.898894665981322\n",
      " hess_inv: array([[1.67940841]])\n",
      "      jac: array([0.])\n",
      "  message: 'Optimization terminated successfully.'\n",
      "     nfev: 14\n",
      "      nit: 6\n",
      "     njev: 7\n",
      "   status: 0\n",
      "  success: True\n",
      "        x: array([25.880193])\n"
     ]
    }
   ],
   "source": [
    "print(minimize(f, 30, method='BFGS'))"
   ]
  },
  {
   "cell_type": "markdown",
   "metadata": {},
   "source": [
    "__Построение графика для функции__\n",
    "\n",
    "Видно, что при первоначальном приближении 2, мы попадаем в локальный минимум"
   ]
  },
  {
   "cell_type": "code",
   "execution_count": 25,
   "metadata": {},
   "outputs": [
    {
     "data": {
      "text/plain": [
       "[<matplotlib.lines.Line2D at 0x7fe516ef1cd0>]"
      ]
     },
     "execution_count": 25,
     "metadata": {},
     "output_type": "execute_result"
    },
    {
     "data": {
      "image/png": "[encoded data removed]",
      "text/plain": [
       "<Figure size 900x600 with 1 Axes>"
      ]
     },
     "metadata": {
      "needs_background": "light"
     },
     "output_type": "display_data"
    }
   ],
   "source": [
    "import matplotlib.pyplot as plt\n",
    "\n",
    "x = np.linspace(1, 30, 100)\n",
    "plt.figure(dpi = 150)\n",
    "plt.plot(x, f(x))"
   ]
  },
  {
   "cell_type": "markdown",
   "metadata": {},
   "source": [
    "__Вывод ответа__"
   ]
  },
  {
   "cell_type": "code",
   "execution_count": 33,
   "metadata": {},
   "outputs": [
    {
     "name": "stdout",
     "output_type": "stream",
     "text": [
      "1.75 -11.90\n"
     ]
    }
   ],
   "source": [
    "print('{:.2f}'.format(minimize(f, 2, method='BFGS')['fun']), end=' ')\n",
    "print('{:.2f}'.format(minimize(f, 30, method='BFGS')['fun']))"
   ]
  },
  {
   "cell_type": "markdown",
   "metadata": {},
   "source": [
    "## Задача 2: Глобальная оптимизация\n",
    "\n",
    "1. Теперь попробуем применить к той же функции $f(x)$ метод глобальной оптимизации - дифференциальную эволюцию.\n",
    "2. Изучите документацию и примеры использования функции `scipy.optimize.differential_evolution`.\n",
    "3. Обратите внимание, что границы значений аргументов функции представляют собой список кортежей (`list`, в который помещены объекты типа `tuple`). Даже если у вас функция одного аргумента, возьмите границы его значений в квадратные скобки, чтобы передавать в этом параметре список из одного кортежа, т.к. в реализации `scipy.optimize.differential_evolution` длина этого списка используется чтобы определить количество аргументов функции.\n",
    "4. Запустите поиск минимума функции $f(x)$ с помощью дифференциальной эволюции на промежутке $[1, 30]$. Полученное значение функции в точке минимума - ответ в задаче 2. Запишите его с точностью до второго знака после запятой. В этой задаче ответ - только одно число.\n",
    "5. Заметьте, дифференциальная эволюция справилась с задачей поиска глобального минимума на отрезке, т.к. по своему устройству она предполагает борьбу с попаданием в локальные минимумы.\n",
    "6. Сравните количество итераций, потребовавшихся BFGS для нахождения минимума при хорошем начальном приближении, с количеством итераций, потребовавшихся дифференциальной эволюции. При повторных запусках дифференциальной эволюции количество итераций будет меняться, но в этом примере, скорее всего, оно всегда будет сравнимым с количеством итераций BFGS. Однако в дифференциальной эволюции за одну итерацию требуется выполнить гораздо больше действий, чем в BFGS. Например, можно обратить внимание на количество вычислений значения функции (`nfev`) и увидеть, что у BFGS оно значительно меньше. Кроме того, время работы дифференциальной эволюции очень быстро растет с увеличением числа аргументов функции."
   ]
  },
  {
   "cell_type": "markdown",
   "metadata": {},
   "source": [
    "__Нахождение минимума с помощью алгоритма дифференциальной эволюции__"
   ]
  },
  {
   "cell_type": "code",
   "execution_count": 40,
   "metadata": {},
   "outputs": [
    {
     "data": {
      "text/plain": [
       "     fun: array([-11.89889467])\n",
       "     jac: array([3.55271338e-07])\n",
       " message: 'Optimization terminated successfully.'\n",
       "    nfev: 98\n",
       "     nit: 5\n",
       " success: True\n",
       "       x: array([25.88019396])"
      ]
     },
     "execution_count": 40,
     "metadata": {},
     "output_type": "execute_result"
    }
   ],
   "source": [
    "from scipy.optimize import differential_evolution\n",
    "\n",
    "differential_evolution(f, [(1,30)])"
   ]
  },
  {
   "cell_type": "markdown",
   "metadata": {},
   "source": [
    "__Вывод ответа__"
   ]
  },
  {
   "cell_type": "code",
   "execution_count": 43,
   "metadata": {},
   "outputs": [
    {
     "name": "stdout",
     "output_type": "stream",
     "text": [
      "-11.90\n"
     ]
    }
   ],
   "source": [
    "print('{:.2f}'.format(differential_evolution(f, [(1,30)])['fun'][0]))"
   ]
  },
  {
   "cell_type": "markdown",
   "metadata": {},
   "source": [
    "## Задача 3. Минимизация негладкой функции\n",
    "\n",
    "1. Теперь рассмотрим функцию $h(x) = int(f(x))$ на том же отрезке $[1, 30]$, т.е. теперь каждое значение $f(x)$ приводится к типу `int` и функция принимает только целые значения.\n",
    "2. Такая функция будет негладкой и даже разрывной, а ее график будет иметь ступенчатый вид. Убедитесь в этом, построив график $h(x)$ с помощью `matplotlib`.\n",
    "3. Попробуйте найти минимум функции $h(x)$ с помощью BFGS, взяв в качестве начального приближения $x=30$. Получившееся значение функции – ваш первый ответ в этой задаче.\n",
    "4. Теперь попробуйте найти минимум $h(x)$ на отрезке $[1, 30]$ с помощью дифференциальной эволюции. Значение функции $h(x)$ в точке минимума – это ваш второй ответ в этом задании. Запишите его через пробел после предыдущего.\n",
    "5. Обратите внимание на то, что полученные ответы различаются. Это ожидаемый результат, ведь BFGS использует градиент (в одномерном случае – производную) и явно не пригоден для минимизации рассмотренной нами разрывной функции. Попробуйте понять, почему минимум, найденный BFGS, именно такой (возможно в этом вам поможет выбор разных начальных приближений).\n",
    "6. Выполнив это задание, вы увидели на практике, чем поиск минимума функции отличается от глобальной оптимизации, и когда может быть полезно применить вместо градиентного метода оптимизации метод, не использующий градиент. Кроме того, вы попрактиковались в использовании библиотеки SciPy для решения оптимизационных задач, и теперь знаете, насколько это просто и удобно."
   ]
  },
  {
   "cell_type": "markdown",
   "metadata": {},
   "source": [
    "__Построение графика__"
   ]
  },
  {
   "cell_type": "code",
   "execution_count": 46,
   "metadata": {},
   "outputs": [
    {
     "data": {
      "text/plain": [
       "[<matplotlib.lines.Line2D at 0x7fe51762e550>]"
      ]
     },
     "execution_count": 46,
     "metadata": {},
     "output_type": "execute_result"
    },
    {
     "data": {
      "image/png": "[encoded data removed]",
      "text/plain": [
       "<Figure size 900x600 with 1 Axes>"
      ]
     },
     "metadata": {
      "needs_background": "light"
     },
     "output_type": "display_data"
    }
   ],
   "source": [
    "h = lambda x: f(x).astype(int)\n",
    "\n",
    "x = np.linspace(1, 30, 100)\n",
    "plt.figure(dpi = 150)\n",
    "plt.plot(x, h(x))"
   ]
  },
  {
   "cell_type": "markdown",
   "metadata": {},
   "source": [
    "__Нахождение минимума (BFGS) при $x_0=30$__"
   ]
  },
  {
   "cell_type": "code",
   "execution_count": 48,
   "metadata": {},
   "outputs": [
    {
     "data": {
      "text/plain": [
       "      fun: -5\n",
       " hess_inv: array([[1]])\n",
       "      jac: array([0.])\n",
       "  message: 'Optimization terminated successfully.'\n",
       "     nfev: 2\n",
       "      nit: 0\n",
       "     njev: 1\n",
       "   status: 0\n",
       "  success: True\n",
       "        x: array([30.])"
      ]
     },
     "execution_count": 48,
     "metadata": {},
     "output_type": "execute_result"
    }
   ],
   "source": [
    "minimize(h, 30, method='BFGS')"
   ]
  },
  {
   "cell_type": "markdown",
   "metadata": {},
   "source": [
    "__Нахождение минимума на отрезке (Differential evolution)__"
   ]
  },
  {
   "cell_type": "code",
   "execution_count": 49,
   "metadata": {},
   "outputs": [
    {
     "data": {
      "text/plain": [
       "     fun: -11.0\n",
       " message: 'Optimization terminated successfully.'\n",
       "    nfev: 77\n",
       "     nit: 4\n",
       " success: True\n",
       "       x: array([26.66890892])"
      ]
     },
     "execution_count": 49,
     "metadata": {},
     "output_type": "execute_result"
    }
   ],
   "source": [
    "differential_evolution(h, [(1,30)])"
   ]
  },
  {
   "cell_type": "markdown",
   "metadata": {},
   "source": [
    "__Вывод ответа__"
   ]
  },
  {
   "cell_type": "code",
   "execution_count": 50,
   "metadata": {},
   "outputs": [
    {
     "name": "stdout",
     "output_type": "stream",
     "text": [
      "-5 -11.0\n"
     ]
    }
   ],
   "source": [
    "print(minimize(h, 30, method='BFGS')['fun'], end=' ')\n",
    "print(differential_evolution(h, [(1,30)])['fun'])"
   ]
  },
  {
   "cell_type": "markdown",
   "metadata": {},
   "source": [
    "## Ответ на всё задание"
   ]
  },
  {
   "cell_type": "code",
   "execution_count": 53,
   "metadata": {},
   "outputs": [],
   "source": [
    "with open('1.txt', 'w') as f:\n",
    "    print('1.75 -11.90', file=f)\n",
    "with open('2.txt', 'w') as f:\n",
    "    print('-11.90', file=f)\n",
    "with open('3.txt', 'w') as f:\n",
    "    print('-5 -11', file=f)"
   ]
  }
 ],
 "metadata": {
  "kernelspec": {
   "display_name": "Python 3",
   "language": "python",
   "name": "python3"
  },
  "language_info": {
   "codemirror_mode": {
    "name": "ipython",
    "version": 3
   },
   "file_extension": ".py",
   "mimetype": "text/x-python",
   "name": "python",
   "nbconvert_exporter": "python",
   "pygments_lexer": "ipython3",
   "version": "3.8.5"
  }
 },
 "nbformat": 4,
 "nbformat_minor": 4
}
